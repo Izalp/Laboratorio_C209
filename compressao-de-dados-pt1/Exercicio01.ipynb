{
 "cells": [
  {
   "cell_type": "markdown",
   "metadata": {},
   "source": [
    "# Exercício"
   ]
  },
  {
   "cell_type": "markdown",
   "metadata": {},
   "source": [
    "1. Implemente um decodificador para o RLE apresentado acima."
   ]
  },
  {
   "cell_type": "code",
   "execution_count": 1,
   "metadata": {},
   "outputs": [
    {
     "name": "stdout",
     "output_type": "stream",
     "text": [
      "Dados (antes): [5, 5, 8, 9, 9, 9, 9, 9, 9, 30, 30, 30, 22, 22, 22, 22, 22, 22, 12, 12]\n",
      "Tamanho dados (antes): 20\n",
      "Dados (depois): [2, 5, 1, 8, 6, 9, 3, 30, 6, 22, 2, 12]\n",
      "Tamanho dados (depois): 12\n",
      "Taxa de compressão: 1.6666666666666667\n",
      "Dados decodificados: [5, 5, 8, 9, 9, 9, 9, 9, 9, 30, 30, 30, 22, 22, 22, 22, 22, 22, 12, 12]\n",
      "\n",
      "Dados (antes): [1, 2, 3, 4, 5, 6, 7, 8, 9, 10]\n",
      "Tamanho dados (antes): 10\n",
      "Dados (depois): [1, 1, 1, 2, 1, 3, 1, 4, 1, 5, 1, 6, 1, 7, 1, 8, 1, 9, 1, 10]\n",
      "Tamanho dados (depois): 20\n",
      "Taxa de compressão: 0.5\n",
      "Dados decodificados: [1, 2, 3, 4, 5, 6, 7, 8, 9, 10]\n"
     ]
    }
   ],
   "source": [
    "def rle_encode(data):\n",
    "    encoding = []\n",
    "    if not data:\n",
    "        return encoding\n",
    "    \n",
    "    prev = data[0]\n",
    "    count = 0\n",
    "    \n",
    "    for value in data:\n",
    "        if value != prev:\n",
    "            encoding.append(count)\n",
    "            encoding.append(prev)\n",
    "                \n",
    "            count = 1\n",
    "            prev = value\n",
    "        else:\n",
    "            count += 1\n",
    "            \n",
    "    encoding.append(count)\n",
    "    encoding.append(prev)\n",
    "    \n",
    "    return encoding\n",
    "\n",
    "def rle_decode(encoded_data):\n",
    "    decoded = []\n",
    "    for i in range(0, len(encoded_data), 2):\n",
    "        count = encoded_data[i]\n",
    "        value = encoded_data[i + 1]\n",
    "        decoded.extend([value] * count)\n",
    "    \n",
    "    return decoded\n",
    "\n",
    "data = [5, 5, 8, 9, 9, 9, 9, 9, 9, 30, 30, 30, 22, 22, 22, 22, 22, 22, 12, 12]\n",
    "size_before = len(data)\n",
    "\n",
    "compressed = rle_encode(data)\n",
    "size_after = len(compressed)\n",
    "\n",
    "print('Dados (antes):', data)\n",
    "print('Tamanho dados (antes):', size_before)\n",
    "print('Dados (depois):', compressed)\n",
    "print('Tamanho dados (depois):', size_after)\n",
    "print('Taxa de compressão:', size_before / size_after)\n",
    "\n",
    "decoded = rle_decode(compressed)\n",
    "print('Dados decodificados:', decoded)\n",
    "\n",
    "data = [1, 2, 3, 4, 5, 6, 7, 8, 9, 10]\n",
    "size_before = len(data)\n",
    "\n",
    "compressed = rle_encode(data)\n",
    "size_after = len(compressed)\n",
    "\n",
    "print('\\nDados (antes):', data)\n",
    "print('Tamanho dados (antes):', size_before)\n",
    "print('Dados (depois):', compressed)\n",
    "print('Tamanho dados (depois):', size_after)\n",
    "print('Taxa de compressão:', size_before / size_after)\n",
    "\n",
    "decoded = rle_decode(compressed)\n",
    "print('Dados decodificados:', decoded)\n"
   ]
  },
  {
   "cell_type": "markdown",
   "metadata": {},
   "source": [
    "# Referências\n",
    "* https://www.fileformat.info/mirror/egff/ch09_03.htm\n",
    "* https://en.wikipedia.org/wiki/Lempel–Ziv–Welch"
   ]
  },
  {
   "cell_type": "markdown",
   "metadata": {},
   "source": [
    "Aula remota, conforme Port. 345/2020 – MEC"
   ]
  }
 ],
 "metadata": {
  "kernelspec": {
   "display_name": "Python 3",
   "language": "python",
   "name": "python3"
  },
  "language_info": {
   "codemirror_mode": {
    "name": "ipython",
    "version": 3
   },
   "file_extension": ".py",
   "mimetype": "text/x-python",
   "name": "python",
   "nbconvert_exporter": "python",
   "pygments_lexer": "ipython3",
   "version": "3.11.7"
  }
 },
 "nbformat": 4,
 "nbformat_minor": 4
}
