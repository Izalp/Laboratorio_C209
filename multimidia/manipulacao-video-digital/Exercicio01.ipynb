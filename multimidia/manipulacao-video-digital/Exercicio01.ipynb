{
 "cells": [
  {
   "cell_type": "markdown",
   "metadata": {},
   "source": [
    "# Exercício"
   ]
  },
  {
   "cell_type": "markdown",
   "metadata": {},
   "source": [
    "1. Realize uma detecção de bordas (aula 10) em um vídeo com o método de sua escolha e salve o resultado no disco.\n",
    "\n",
    "Dica:\n",
    "* O vídeo contém imagens em RGB, e consequentemente, a saída da função deve ser em RGB. Uma solução seria criar um array RGB e atribuir o resultado da deteção de bordas nos três canais."
   ]
  },
  {
   "cell_type": "code",
   "execution_count": 22,
   "metadata": {},
   "outputs": [],
   "source": [
    "import moviepy.editor as mpe\n",
    "import numpy as np\n",
    "\n",
    "video = mpe.VideoFileClip(\"bigbuckbunny.mp4\")"
   ]
  },
  {
   "cell_type": "code",
   "execution_count": 23,
   "metadata": {},
   "outputs": [],
   "source": [
    "def border_detect(frame):\n",
    "    gray = np.average(frame, axis=2).astype(np.float64)\n",
    "    \n",
    "    abs_tg_c = np.abs(np.diff(gray, axis=0, append=255))\n",
    "    abs_tg_l = np.abs(np.diff(gray, axis=1, append=255))\n",
    "    abs_tg = np.hypot(abs_tg_c, abs_tg_l)\n",
    "    \n",
    "    l, c, p = frame.shape\n",
    "    \n",
    "    border = np.zeros(shape=(l, c), dtype=np.uint8)\n",
    "    border[abs_tg > 15] = 255\n",
    "    \n",
    "    new_frame = np.zeros(shape=(l, c, p), dtype=np.uint8)\n",
    "    \n",
    "    new_frame[:, :, 0] = border\n",
    "    new_frame[:, :, 1] = border\n",
    "    new_frame[:, :, 2] = border\n",
    "    return new_frame"
   ]
  },
  {
   "cell_type": "code",
   "execution_count": 24,
   "metadata": {},
   "outputs": [
    {
     "name": "stdout",
     "output_type": "stream",
     "text": [
      "Moviepy - Building video video_borders.mp4.\n",
      "MoviePy - Writing audio in video_bordersTEMP_MPY_wvf_snd.mp3\n"
     ]
    },
    {
     "name": "stderr",
     "output_type": "stream",
     "text": [
      "                                                                                                                       \r"
     ]
    },
    {
     "name": "stdout",
     "output_type": "stream",
     "text": [
      "MoviePy - Done.\n",
      "Moviepy - Writing video video_borders.mp4\n",
      "\n"
     ]
    },
    {
     "name": "stderr",
     "output_type": "stream",
     "text": [
      "                                                                                                                       \r"
     ]
    },
    {
     "name": "stdout",
     "output_type": "stream",
     "text": [
      "Moviepy - Done !\n",
      "Moviepy - video ready video_borders.mp4\n"
     ]
    }
   ],
   "source": [
    "video_borders = video.fl_image(border_detect)\n",
    "video_borders.write_videofile('video_borders.mp4')"
   ]
  },
  {
   "cell_type": "markdown",
   "metadata": {},
   "source": [
    "# Referências\n",
    "* https://zulko.github.io/moviepy/ref/VideoClip/VideoClip.html\n",
    "* https://en.wikipedia.org/wiki/Digital_video\n",
    "* https://dusil.com/tag/video-compression-quality/\n",
    "* https://en.wikipedia.org/wiki/Uncompressed_video\n",
    "* https://streaminglearningcenter.com/articles/streaming-101-the-basics-codecs-bandwidth-data-rate-and-resolution.html"
   ]
  },
  {
   "cell_type": "markdown",
   "metadata": {},
   "source": [
    "Aula remota, conforme Port. 345/2020 – MEC"
   ]
  }
 ],
 "metadata": {
  "kernelspec": {
   "display_name": "Python 3",
   "language": "python",
   "name": "python3"
  },
  "language_info": {
   "codemirror_mode": {
    "name": "ipython",
    "version": 3
   },
   "file_extension": ".py",
   "mimetype": "text/x-python",
   "name": "python",
   "nbconvert_exporter": "python",
   "pygments_lexer": "ipython3",
   "version": "3.8.5"
  }
 },
 "nbformat": 4,
 "nbformat_minor": 4
}
