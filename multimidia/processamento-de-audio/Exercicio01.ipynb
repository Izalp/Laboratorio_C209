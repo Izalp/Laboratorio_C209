{
 "cells": [
  {
   "cell_type": "markdown",
   "metadata": {},
   "source": [
    "# Exercícios"
   ]
  },
  {
   "attachments": {
    "grafico_ex.PNG": {
     "image/png": "[encoded data removed]"
    }
   },
   "cell_type": "markdown",
   "metadata": {},
   "source": [
    "1. A partir de um tempo inicial t escolhido por você, diminua o volume de um áudio em 10% (fixos) por segundo.\n",
    "    * O decrescimento deve parar quando o volume atingir 0%, e em seguida o trecho de áudio que sofreu a diminuição deve ser:\n",
    "    * Salvo com taxa de amostragem inalterada;\n",
    "    * Tocado, 50% mais grave com relação à taxa de amostragem original nos primeiros 5 segundos e 50% mais agudo com relação à taxa de amostragem original nos segundos restantes;\n",
    "\n",
    "\n",
    "* t + 0 até t + 1: volume = 90% nesse trecho de 1 segundo;\n",
    "* t + 1 até t + 2: volume = 80% nesse trecho de 1 segundo;\n",
    "* t + 2 até t + 3: volume = 70% nesse trecho de 1 segundo;\n",
    "* t + 3 até t + 4: volume = 60% nesse trecho de 1 segundo;\n",
    "* E assim por diante...\n",
    "![grafico_ex.PNG](attachment:grafico_ex.PNG)\n",
    "Com t = 10."
   ]
  },
  {
   "cell_type": "code",
   "execution_count": 21,
   "metadata": {},
   "outputs": [],
   "source": [
    "from scipy.io import wavfile\n",
    "import numpy as np\n",
    "import sounddevice as sd\n",
    "\n",
    "# Função para modificar a taxa de amostragem\n",
    "def change_sample_rate(data, original_rate, new_rate):\n",
    "    if data.shape[0] == 0:\n",
    "        return data\n",
    "    duration = data.shape[0] / original_rate\n",
    "    new_length = int(duration * new_rate)\n",
    "    new_data = np.zeros((new_length, data.shape[1]), dtype=data.dtype)\n",
    "    for c in range(data.shape[1]):\n",
    "        new_data[:, c] = np.interp(\n",
    "            np.linspace(0, 1, new_length),\n",
    "            np.linspace(0, 1, data.shape[0]),\n",
    "            data[:, c]\n",
    "        )\n",
    "    return new_data\n",
    "\n",
    "# Carregar o arquivo de áudio\n",
    "input_file = 'Roundabout.wav'\n",
    "output_file = 'saida_arquivo.wav'\n",
    "samplerate, data = wavfile.read(input_file)\n",
    "\n",
    "# Verificar se o áudio é estéreo ou mono\n",
    "if len(data.shape) > 1:\n",
    "    channels = data.shape[1]\n",
    "else:\n",
    "    channels = 1\n",
    "    data = data[:, np.newaxis]\n",
    "\n",
    "# Tempo inicial em segundos\n",
    "t = 10\n",
    "\n",
    "# Converter tempo inicial para amostras\n",
    "start_sample = int(t * samplerate)\n",
    "\n",
    "# Verificar se o tempo inicial está dentro do comprimento do áudio\n",
    "max_t = len(data) / samplerate\n",
    "if t >= max_t:\n",
    "    raise ValueError(f\"O tempo inicial t ({t} segundos) está além do comprimento do áudio ({max_t:.2f} segundos).\")\n",
    "\n",
    "# Reduzir o volume conforme os segmentos especificados\n",
    "for i in range(10):\n",
    "    start_idx = start_sample + i * samplerate\n",
    "    end_idx = start_sample + (i + 1) * samplerate\n",
    "    if start_idx >= len(data):\n",
    "        break\n",
    "    duration = end_idx - start_idx\n",
    "    factor = 1 - (i + 1) * 0.1\n",
    "    if factor < 0:\n",
    "        factor = 0\n",
    "    data[start_idx:end_idx] = (data[start_idx:end_idx].astype(np.float64) * factor).astype(np.int16)\n",
    "\n",
    "# Separar os primeiros 5 segundos para tornar 50% mais grave\n",
    "end_grave = start_sample + 5 * samplerate\n",
    "data_grave = data[start_sample:end_grave]\n",
    "data_grave_resampled = change_sample_rate(data_grave, samplerate, int(samplerate * 1.5))\n",
    "\n",
    "# Separar os segundos restantes para tornar 50% mais agudo\n",
    "data_agudo = data[end_grave:]\n",
    "data_agudo_resampled = change_sample_rate(data_agudo, samplerate, int(samplerate * 0.5))\n",
    "\n",
    "# Concatenar os dois trechos\n",
    "output_data = np.concatenate((data[:start_sample], data_grave_resampled, data_agudo_resampled))\n",
    "\n",
    "# Remover o canal extra se o áudio original for mono\n",
    "if channels == 1:\n",
    "    output_data = output_data[:, 0]\n",
    "\n",
    "# Tocar o áudio modificado\n",
    "sd.play(output_data, samplerate)\n",
    "sd.wait()\n",
    "\n",
    "# Salvar o novo arquivo de áudio\n",
    "wavfile.write(output_file, samplerate, output_data.astype(np.int16))\n"
   ]
  }
 ],
 "metadata": {
  "kernelspec": {
   "display_name": "Python 3",
   "language": "python",
   "name": "python3"
  },
  "language_info": {
   "codemirror_mode": {
    "name": "ipython",
    "version": 3
   },
   "file_extension": ".py",
   "mimetype": "text/x-python",
   "name": "python",
   "nbconvert_exporter": "python",
   "pygments_lexer": "ipython3",
   "version": "3.11.7"
  }
 },
 "nbformat": 4,
 "nbformat_minor": 4
}
