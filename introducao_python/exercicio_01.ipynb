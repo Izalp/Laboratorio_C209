{
 "cells": [
  {
   "cell_type": "markdown",
   "metadata": {},
   "source": [
    "1. Crie dois arrays 8x8x3, com valores aleatórios do tipo np.uint8 no intervalo de 0 a 10 (inclusive). Chame as variáveis de `a` e `b`:"
   ]
  },
  {
   "cell_type": "code",
   "execution_count": null,
   "metadata": {},
   "outputs": [],
   "source": [
    "import numpy as np\n",
    "\n",
    "a = np.random.randint(0, 11, size=(3, 8, 8), dtype=np.uint8)\n",
    "b = np.random.randint(0, 11, size=(3, 8, 8), dtype=np.uint8)\n",
    "\n",
    "print(\"A:\", a)\n",
    "print(\"B:\", b)"
   ]
  },
  {
   "cell_type": "markdown",
   "metadata": {},
   "source": [
    "2. Crie uma nova matriz `c`, cujos valores são as médias aritméticas dos valores (ponto-a-ponto) das matrizes criadas no exercício 1."
   ]
  },
  {
   "cell_type": "code",
   "execution_count": null,
   "metadata": {},
   "outputs": [],
   "source": [
    "c = np.mean([a, b], axis=0)\n",
    "\n",
    "print(\"Matriz C:\",c)"
   ]
  },
  {
   "cell_type": "markdown",
   "metadata": {},
   "source": [
    "3. Concatene as matrizes `a`, `b` e `c` horizontalmente, e depois guarde a subarray composta pelas linhas 1 a 7 (inclusive), colunas 0 a 3 (inclusive) e página 1."
   ]
  },
  {
   "cell_type": "code",
   "execution_count": null,
   "metadata": {},
   "outputs": [],
   "source": [
    "matriz_concatenada = np.concatenate((a, b, c), axis=0)\n",
    "subarray = matriz_concatenada[1, 1:8, 0:4] # pagina, linha, coluna\n",
    "\n",
    "print(\"Subarray:\", subarray)"
   ]
  },
  {
   "cell_type": "markdown",
   "metadata": {},
   "source": [
    "4. Multiplique a página 0 da matriz `a` com a página 1 da matriz `b` (faça multiplicação matricial)."
   ]
  },
  {
   "cell_type": "code",
   "execution_count": null,
   "metadata": {},
   "outputs": [],
   "source": [
    "produto_matricial = np.matmul( a[0,:,:], b[1,:,:])\n",
    "\n",
    "print(produto_matricial)"
   ]
  },
  {
   "cell_type": "markdown",
   "metadata": {},
   "source": [
    "5. Crie uma função que receba um array bidimensional e retorne uma tupla `(m, p)`, onde `m` é o maior valor e `p` é a posição `(x, y)` no array onde se encontra `m`. Faça uso do `while` ou do `for` vistos acima. Caso tenha mais de uma posição com valor máximo, utilize a posição mais antiga."
   ]
  },
  {
   "cell_type": "code",
   "execution_count": null,
   "metadata": {},
   "outputs": [],
   "source": [
    "def encontrar_maior_valor(array):\n",
    "    m = array[0][0]\n",
    "    p = (0, 0)\n",
    "\n",
    "    for i in range(len(array)):\n",
    "        for j in range(len(array[i])):\n",
    "            if array[i][j] > m:\n",
    "                m = array[i][j]\n",
    "                p = (i, j)\n",
    "\n",
    "    return (m, p)\n",
    "\n",
    "array = [[1, 2, 3],\n",
    "         [4, 5, 6],\n",
    "         [7, 8, 9]]\n",
    "\n",
    "m, p = encontrar_maior_valor(array)\n",
    "print(\"Maior valor:\", m)\n",
    "print(\"Posição:\", p)\n"
   ]
  },
  {
   "cell_type": "markdown",
   "metadata": {},
   "source": [
    "6. Pesquise sobre as funções `max`, `unravel_index` e `argmax` do NumPy e refaça o exercício 5 sem utilizar estrutura de repetição."
   ]
  },
  {
   "cell_type": "code",
   "execution_count": 47,
   "metadata": {},
   "outputs": [
    {
     "name": "stdout",
     "output_type": "stream",
     "text": [
      "Maior valor: 9\n",
      "Posição: (2, 2)\n"
     ]
    }
   ],
   "source": [
    "def encontrar_valor_max(array):\n",
    "    indice = np.argmax(array)\n",
    "    posicao = np.unravel_index(indice, array.shape)\n",
    "    maior_valor = np.max(array)\n",
    "\n",
    "    return (maior_valor, posicao)\n",
    "\n",
    "array = np.array([[1, 2, 3],\n",
    "                  [4, 5, 6],\n",
    "                  [7, 8, 9]])\n",
    "\n",
    "maior_valor, posicao = encontrar_maior_valor(array)\n",
    "print(\"Maior valor:\", maior_valor)\n",
    "print(\"Posição:\", posicao)\n"
   ]
  }
 ],
 "metadata": {
  "kernelspec": {
   "display_name": "Python 3",
   "language": "python",
   "name": "python3"
  },
  "language_info": {
   "codemirror_mode": {
    "name": "ipython",
    "version": 3
   },
   "file_extension": ".py",
   "mimetype": "text/x-python",
   "name": "python",
   "nbconvert_exporter": "python",
   "pygments_lexer": "ipython3",
   "version": "3.12.2"
  }
 },
 "nbformat": 4,
 "nbformat_minor": 2
}
