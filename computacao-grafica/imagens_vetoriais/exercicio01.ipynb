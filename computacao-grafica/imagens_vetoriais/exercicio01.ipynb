{
 "cells": [
  {
   "cell_type": "markdown",
   "metadata": {},
   "source": [
    "1. Escreva um código em SVG que desenhe a bandeira do Brasil e a rotacione em 30 graus usando o canto inferior esquerdo do retângulo verde como referência. O texto e as estrelas são opcionais;\n",
    "\n",
    "- Verde = rgb(0, 156, 59)\n",
    "- Amarelo = rgb(255, 233, 0)\n",
    "- Azul = rgb(0, 39, 118)\n",
    "- Branco = rgb(255, 255, 255)"
   ]
  },
  {
   "cell_type": "code",
   "execution_count": 2,
   "metadata": {},
   "outputs": [
    {
     "data": {
      "image/svg+xml": [
       "<svg xmlns=\"http://www.w3.org/2000/svg\" width=\"1060\" height=\"742\" viewBox=\"-2100 -1470 4200 2940\" transform=\"rotate(30)\" style=\"margin: 300px;\">\n",
       "  <clipPath id=\"faixa\">\n",
       "    <circle r=\"735\"/>\n",
       "  </clipPath>\n",
       "  <rect x=\"-2100\" y=\"-1470\" width=\"4200\" height=\"2940\" fill=\"rgb(0, 156, 59)\"/>\n",
       "  <path d=\"M -1743,0 0,1113 1743,0 0,-1113 Z\" fill=\"rgb(255, 233, 0)\"/>\n",
       "  <circle r=\"735\" fill=\"rgb(0, 39, 118)\"/>\n",
       "  <path d=\"m-2205 1470a1785 1785 0 0 1 3570 0h-105a1680 1680 0 1 0-3360 0z\" clip-path=\"url(#faixa)\" fill=\"rgb(255, 255, 255)\"/>\n",
       "</svg>"
      ],
      "text/plain": [
       "<IPython.core.display.SVG object>"
      ]
     },
     "metadata": {},
     "output_type": "display_data"
    }
   ],
   "source": [
    "from IPython.display import SVG, display\n",
    "\n",
    "svg_code = \"\"\"\n",
    "<svg width=\"1060\" height=\"742\" viewBox=\"-2100 -1470 4200 2940\" xmlns=\"http://www.w3.org/2000/svg\" transform=\"rotate(30)\" style=\"margin: 300px;\">\n",
    "  <clipPath id=\"faixa\">\n",
    "    <circle r=\"735\"/>\n",
    "  </clipPath>\n",
    "  <rect x=\"-2100\" y=\"-1470\" width=\"4200\" height=\"2940\" fill=\"rgb(0, 156, 59)\"/>\n",
    "  <path d=\"M -1743,0 0,1113 1743,0 0,-1113 Z\" fill=\"rgb(255, 233, 0)\"/>\n",
    "  <circle r=\"735\" fill=\"rgb(0, 39, 118)\"/>\n",
    "  <path d=\"m-2205 1470a1785 1785 0 0 1 3570 0h-105a1680 1680 0 1 0-3360 0z\" clip-path=\"url(#faixa)\" fill=\"rgb(255, 255, 255)\"/>\n",
    "</svg>\n",
    "\"\"\"\n",
    "\n",
    "display(SVG(svg_code))"
   ]
  }
 ],
 "metadata": {
  "kernelspec": {
   "display_name": "Python 3",
   "language": "python",
   "name": "python3"
  },
  "language_info": {
   "codemirror_mode": {
    "name": "ipython",
    "version": 3
   },
   "file_extension": ".py",
   "mimetype": "text/x-python",
   "name": "python",
   "nbconvert_exporter": "python",
   "pygments_lexer": "ipython3",
   "version": "3.12.2"
  }
 },
 "nbformat": 4,
 "nbformat_minor": 2
}
